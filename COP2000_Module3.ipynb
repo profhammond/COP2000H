{
  "nbformat": 4,
  "nbformat_minor": 0,
  "metadata": {
    "colab": {
      "provenance": [],
      "authorship_tag": "ABX9TyNWr/UU/v9Kkr0fc4Yhk4iB",
      "include_colab_link": true
    },
    "kernelspec": {
      "name": "python3",
      "display_name": "Python 3"
    },
    "language_info": {
      "name": "python"
    }
  },
  "cells": [
    {
      "cell_type": "markdown",
      "metadata": {
        "id": "view-in-github",
        "colab_type": "text"
      },
      "source": [
        "<a href=\"https://colab.research.google.com/github/profhammond/COP2000H/blob/main/COP2000_Module3.ipynb\" target=\"_parent\"><img src=\"https://colab.research.google.com/assets/colab-badge.svg\" alt=\"Open In Colab\"/></a>"
      ]
    },
    {
      "cell_type": "markdown",
      "source": [
        "#**Practice Exercise 2**"
      ],
      "metadata": {
        "id": "ebe38UDKnzLf"
      }
    },
    {
      "cell_type": "code",
      "source": [
        "from IPython.display import YouTubeVideo\n",
        "YouTubeVideo('khvJptqSm4U', width=800, height=300)"
      ],
      "metadata": {
        "id": "63iqgSsidDqw",
        "colab": {
          "base_uri": "https://localhost:8080/",
          "height": 321
        },
        "outputId": "6bb93e55-69bc-4073-c765-c84ff4ecf56a"
      },
      "execution_count": 1,
      "outputs": [
        {
          "output_type": "execute_result",
          "data": {
            "text/plain": [
              "<IPython.lib.display.YouTubeVideo at 0x79a57d9f11e0>"
            ],
            "text/html": [
              "\n",
              "        <iframe\n",
              "            width=\"800\"\n",
              "            height=\"300\"\n",
              "            src=\"https://www.youtube.com/embed/khvJptqSm4U\"\n",
              "            frameborder=\"0\"\n",
              "            allowfullscreen\n",
              "            \n",
              "        ></iframe>\n",
              "        "
            ],
            "image/jpeg": "[encoded data removed]"
          },
          "metadata": {},
          "execution_count": 1
        }
      ]
    },
    {
      "cell_type": "markdown",
      "source": [
        "\n",
        "\n",
        "Integers (whole numbers such as 42 and 100000000)\n",
        "\n",
        "Floats (numbers with decimal points such as 3.14159, or sometimes exponents like 1.0e8, which means one times ten to the eighth power, or 100000000.0)"
      ],
      "metadata": {
        "id": "w3luoarSTF53"
      }
    },
    {
      "cell_type": "code",
      "source": [
        "from IPython.display import YouTubeVideo\n",
        "YouTubeVideo('QU8RpPvtjLE', width=800, height=300)"
      ],
      "metadata": {
        "colab": {
          "base_uri": "https://localhost:8080/",
          "height": 321
        },
        "id": "07RzQsAzd_HY",
        "outputId": "4b557a9c-8541-43fe-9d66-0b3b80bfea2c"
      },
      "execution_count": 2,
      "outputs": [
        {
          "output_type": "execute_result",
          "data": {
            "text/plain": [
              "<IPython.lib.display.YouTubeVideo at 0x79a57d9f0f70>"
            ],
            "text/html": [
              "\n",
              "        <iframe\n",
              "            width=\"800\"\n",
              "            height=\"300\"\n",
              "            src=\"https://www.youtube.com/embed/QU8RpPvtjLE\"\n",
              "            frameborder=\"0\"\n",
              "            allowfullscreen\n",
              "            \n",
              "        ></iframe>\n",
              "        "
            ],
            "image/jpeg": "[encoded data removed]"
          },
          "metadata": {},
          "execution_count": 2
        }
      ]
    },
    {
      "cell_type": "markdown",
      "source": [
        "# **Literals**"
      ],
      "metadata": {
        "id": "BpKKrLzqSGGP"
      }
    },
    {
      "cell_type": "markdown",
      "source": [
        "**Literal Integers**\n",
        "* Any sequence of digits in Python represents a literal integer\n",
        "* But you can’t have an initial 0 followed by a digit between 1 and 9\n",
        "* If you try to assign a value of 09 for example it will throw an exception.\n",
        "* You can’t have any commas in the integer example: 1,000,000. That would create a tuple instead of a number and we will deal with tuples later in the course.\n",
        "* if you put underscores after the first number in any location they are ignored by the system."
      ],
      "metadata": {
        "id": "nxep_FMETTH6"
      }
    },
    {
      "cell_type": "markdown",
      "source": [
        "**Numeric Data Types**\n",
        " * **Integer**\n",
        "   * *numpy*\n",
        "    * int\n",
        "    * uintc\n",
        "   * *py*\n",
        "    * int\n",
        " * **Floating Point**\n",
        "   * *numpy*\n",
        "    * float16 (half precision point)\n",
        "    * single\n",
        "   * *py*\n",
        "    * float    \n",
        " * **Short**\n",
        "   * *numpy*\n",
        "    * short\n",
        "     * ushort\n",
        " * **Long**\n",
        "   * *numpy*\n",
        "    * int_\n",
        "    * uint\n",
        "    * longlong\n",
        "    * ulonglong      \n",
        " * **Double**\n",
        "   * *numpy*\n",
        "    * double\n",
        "    * longdouble\n",
        " * **Decimal**"
      ],
      "metadata": {
        "id": "I3ONco6LSTJU"
      }
    },
    {
      "cell_type": "markdown",
      "source": [
        "# **Integer Operations**"
      ],
      "metadata": {
        "id": "mjEeZhk-USJk"
      }
    },
    {
      "cell_type": "markdown",
      "source": [
        "**Assignment operators**\n",
        "\n",
        "\n",
        "Assignment operators are used in Python to assign values to variables.\n",
        "\n",
        "a = 5 is a simple assignment operator that assigns the value 5 on the right to the variable a on the left.\n",
        "\n",
        "There are various compound operators in Python like a += 5 that adds to the variable and later assigns the same. It is equivalent to a = a + 5.\n",
        "\n",
        "**Operator** $\\>$ $\\>$ \t**Example**\t$\\>$ $\\>$ **Equivalent to**\n",
        "\n",
        "=\t$\\>$ $\\>$ $\\>$ $\\>$ $\\>$ $\\>$ $\\>$ $\\>$ $\\>$ $\\>$ x = 5\t$\\>$ $\\>$ $\\>$ $\\>$ $\\>$ $\\>$ x = 5\n",
        "\n",
        "+=$\\>$ $\\>$ $\\>$ $\\>$ $\\>$ $\\>$ $\\>$ $\\>$ $\\>$ $\\>$\tx += 5$\\>$ $\\>$ $\\>$ $\\>$ $\\>$ $\\>$\tx = x + 5\n",
        "\n",
        "-=$\\>$ $\\>$ $\\>$ $\\>$ $\\>$ $\\>$ $\\>$ $\\>$ $\\>$ $\\>$\tx -= 5$\\>$ $\\>$ $\\>$ $\\>$ $\\>$ $\\>$\tx = x - 5\n",
        "\n",
        "*=$\\>$ $\\>$ $\\>$ $\\>$ $\\>$ $\\>$ $\\>$ $\\>$ $\\>$ $\\>$\tx *= 5$\\>$ $\\>$ $\\>$ $\\>$ $\\>$ $\\>$\tx = x * 5\n",
        "\n",
        "/=$\\>$ $\\>$ $\\>$ $\\>$ $\\>$ $\\>$ $\\>$ $\\>$ $\\>$ $\\>$\tx /= 5$\\>$ $\\>$ $\\>$ $\\>$ $\\>$ $\\>$\tx = x / 5\n",
        "\n",
        "%=$\\>$ $\\>$ $\\>$ $\\>$ $\\>$ $\\>$ $\\>$ $\\>$ $\\>$ $\\>$\tx %= 5$\\>$ $\\>$ $\\>$ $\\>$ $\\>$ $\\>$\tx = x % 5\n",
        "\n",
        "//=$\\>$ $\\>$ $\\>$ $\\>$ $\\>$ $\\>$ $\\>$ $\\>$ $\\>$ $\\>$\tx //= 5$\\>$ $\\>$ $\\>$ $\\>$ $\\>$ $\\>$\tx = x // 5\n",
        "\n",
        "**=$\\>$ $\\>$ $\\>$ $\\>$ $\\>$ $\\>$ $\\>$ $\\>$ $\\>$ $\\>$\tx **= 5$\\>$ $\\>$ $\\>$ $\\>$ $\\>$ $\\>$\tx = x ** 5\n",
        "\n",
        "&=$\\>$ $\\>$ $\\>$ $\\>$ $\\>$ $\\>$ $\\>$ $\\>$ $\\>$ $\\>$\tx &= 5$\\>$ $\\>$ $\\>$ $\\>$ $\\>$ $\\>$\tx = x & 5\n",
        "\n",
        "|=$\\>$ $\\>$ $\\>$ $\\>$ $\\>$ $\\>$ $\\>$ $\\>$ $\\>$ $\\>$\tx |= 5$\\>$ $\\>$ $\\>$ $\\>$ $\\>$ $\\>$\tx = x | 5\n",
        "\n",
        "^=$\\>$ $\\>$ $\\>$ $\\>$ $\\>$ $\\>$ $\\>$ $\\>$ $\\>$ $\\>$\tx ^= 5$\\>$ $\\>$ $\\>$ $\\>$ $\\>$ $\\>$\tx = x ^ 5\n",
        "\n",
        "$>>=$  $\\>$ $\\>$ $\\>$ $\\>$ $\\>$ $\\>$\tx >>= 5$\\>$ $\\>$ $\\>$ $\\>$ $\\>$ $\\>$\tx = x >> 5\n",
        "\n",
        "<<= $\\>$ $\\>$ $\\>$ $\\>$ $\\>$ $\\>$ $\\>$ $\\>$\tx <<= 5$\\>$ $\\>$ $\\>$ $\\>$ $\\>$ $\\>$\tx = x << 5\n"
      ],
      "metadata": {
        "id": "O1fC3Jspj4ZV"
      }
    },
    {
      "cell_type": "markdown",
      "source": [
        "**$+$   Addition**\n",
        "\n",
        "      Example: 5 + 8\n",
        "\n",
        "      Result: 13\n",
        "\n",
        "\n",
        "\n",
        "**$ - $ Subtraction**\n",
        "\n",
        "      Example: 90 - 10\n",
        "\n",
        "      Result: 80\n",
        "\n",
        "\n",
        "\n",
        "**$ \\ast    $   Multiplication**\n",
        "\n",
        "      Example: 4 * 7\n",
        "\n",
        "      Result:28\n",
        "\n",
        "\n",
        "**/   Floating-point division**\n",
        "\n",
        "      Example: 7 / 2\n",
        "\n",
        "      Result: 3.5\n",
        "\n",
        "\n",
        "**//   Integer (truncating) division**\n",
        "\n",
        "      Example: 7 // 2\n",
        "\n",
        "      Result: 3\n",
        "\n",
        "\n",
        "**%   Modulus (remainder)**\n",
        "\n",
        "      Example: 7 % 3\n",
        "\n",
        "      Result: 1\n",
        "\n",
        "\n",
        "****    Exponentiation**\n",
        "\n",
        "      Example: 3 ** 4\n",
        "\n",
        "      Result: 81"
      ],
      "metadata": {
        "id": "kUlsadcfUV9K"
      }
    },
    {
      "cell_type": "markdown",
      "source": [
        "# **Integers and Variables**"
      ],
      "metadata": {
        "id": "7fmURrYjXg3w"
      }
    },
    {
      "cell_type": "markdown",
      "source": [
        "All of the preceding examples used literal integers. You can mix literal integers and variables that have been assigned integer values\n"
      ],
      "metadata": {
        "id": "sCu20cQ7XiWQ"
      }
    },
    {
      "cell_type": "code",
      "source": [
        "from IPython.display import YouTubeVideo\n",
        "YouTubeVideo('69yxn2wTMJs', width=800, height=300)"
      ],
      "metadata": {
        "colab": {
          "base_uri": "https://localhost:8080/",
          "height": 321
        },
        "id": "9EAWjgY6dObk",
        "outputId": "364057fe-716f-4f45-b37d-fe614837ea34"
      },
      "execution_count": 3,
      "outputs": [
        {
          "output_type": "execute_result",
          "data": {
            "text/plain": [
              "<IPython.lib.display.YouTubeVideo at 0x79a57d9f0c70>"
            ],
            "text/html": [
              "\n",
              "        <iframe\n",
              "            width=\"800\"\n",
              "            height=\"300\"\n",
              "            src=\"https://www.youtube.com/embed/69yxn2wTMJs\"\n",
              "            frameborder=\"0\"\n",
              "            allowfullscreen\n",
              "            \n",
              "        ></iframe>\n",
              "        "
            ],
            "image/jpeg": "[encoded data removed]"
          },
          "metadata": {},
          "execution_count": 3
        }
      ]
    },
    {
      "cell_type": "markdown",
      "source": [
        "# Precedence"
      ],
      "metadata": {
        "id": "1_mpNLHNXyuO"
      }
    },
    {
      "cell_type": "markdown",
      "source": [
        "**Operator\tDescription and examples** *sorted by order of precedence*\n",
        "\n",
        "\n",
        "   \n",
        "**Operator**      [v, …], {v1, …}, {k1:v1, …}, (…)\n",
        "\n",
        "      \n",
        "      **example**  List/set/dict/generator creation or comprehension, parenthesized expression\n",
        "\n",
        "**Operator**   seq[n], seq[n:m], func(args…), obj.attr\n",
        "\n",
        "      \n",
        "      **example** Index, slice, function call, attribute reference\n",
        "\n",
        "**Operator** **\n",
        "\n",
        "      \n",
        "      **example** Exponentiation\n",
        "\n",
        "**Operator** +n, –n, ~n\n",
        "\n",
        "      \n",
        "      **example** Positive, negative, bitwise not\n",
        "\n",
        "**Operator** $ *, /, //, $%\n",
        "\n",
        "      \n",
        "      **example** Multiplication, float division, int division, remainder\n",
        "\n",
        "**Operator** +, -\n",
        "\n",
        "      \n",
        "      **example** Addition, subtraction\n",
        "\n",
        "**Operator** <<, >>\n",
        "\n",
        "      \n",
        "      **example** Bitwise left, right shifts\n",
        "\n",
        "**Operator** &\n",
        "\n",
        "      \n",
        "      **example** Bitwise and\n",
        "\n",
        "**Operator** |\n",
        "\n",
        "      \n",
        "      **example** Bitwise or\n",
        "\n",
        "**Operator** in, not in, is, is not, <, <=, >, >=, !=, ==\n",
        "\n",
        "      \n",
        "      **example** Membership and equality tests\n",
        "\n",
        "**Operator** not x\n",
        "\n",
        "      \n",
        "      **example** Boolean (logical) not\n",
        "\n",
        "**Operator** and\n",
        "\n",
        "      \n",
        "      **example** Boolean and\n",
        "\n",
        "**Operator** or\n",
        "\n",
        "      \n",
        "      **example** Boolean or\n",
        "\n",
        "**Operator** if … else\n",
        "\n",
        "      \n",
        "      **example** Conditional expression\n",
        "\n",
        "**Operator** lambda …\n",
        "\n",
        "      \n",
        "      **example** lambda expression"
      ],
      "metadata": {
        "id": "QcD8lURmY2Nn"
      }
    },
    {
      "cell_type": "code",
      "source": [
        "# Practice here with math calculations and precedence."
      ],
      "metadata": {
        "id": "bMfsFoKN9iIH"
      },
      "execution_count": 4,
      "outputs": []
    },
    {
      "cell_type": "code",
      "source": [
        "age=input(\"enter your age (example 21):  \")\n",
        "#halfAge = age / 2\n",
        "#halfAge = float(age) / 2\n",
        "print(\"Half of your age is \", halfAge)\n",
        "\n",
        "# uncomment the first comment above and run the cell, then comment it out and try the other commented statement."
      ],
      "metadata": {
        "id": "lpQwKO1d-isM",
        "colab": {
          "base_uri": "https://localhost:8080/",
          "height": 228
        },
        "outputId": "845d48e0-9b52-47b9-cd00-5cbeca4f702e"
      },
      "execution_count": 5,
      "outputs": [
        {
          "name": "stdout",
          "output_type": "stream",
          "text": [
            "enter your age (example 21):  21\n"
          ]
        },
        {
          "output_type": "error",
          "ename": "NameError",
          "evalue": "name 'halfAge' is not defined",
          "traceback": [
            "\u001b[0;31m---------------------------------------------------------------------------\u001b[0m",
            "\u001b[0;31mNameError\u001b[0m                                 Traceback (most recent call last)",
            "\u001b[0;32m<ipython-input-5-b8cab084c8ae>\u001b[0m in \u001b[0;36m<cell line: 4>\u001b[0;34m()\u001b[0m\n\u001b[1;32m      2\u001b[0m \u001b[0;31m#halfAge = age / 2\u001b[0m\u001b[0;34m\u001b[0m\u001b[0;34m\u001b[0m\u001b[0m\n\u001b[1;32m      3\u001b[0m \u001b[0;31m#halfAge = float(age) / 2\u001b[0m\u001b[0;34m\u001b[0m\u001b[0;34m\u001b[0m\u001b[0m\n\u001b[0;32m----> 4\u001b[0;31m \u001b[0mprint\u001b[0m\u001b[0;34m(\u001b[0m\u001b[0;34m\"Half of your age is \"\u001b[0m\u001b[0;34m,\u001b[0m \u001b[0mhalfAge\u001b[0m\u001b[0;34m)\u001b[0m\u001b[0;34m\u001b[0m\u001b[0;34m\u001b[0m\u001b[0m\n\u001b[0m\u001b[1;32m      5\u001b[0m \u001b[0;34m\u001b[0m\u001b[0m\n\u001b[1;32m      6\u001b[0m \u001b[0;31m# uncomment the first comment above and run the cell, then comment it out and try the other commented statement.\u001b[0m\u001b[0;34m\u001b[0m\u001b[0;34m\u001b[0m\u001b[0m\n",
            "\u001b[0;31mNameError\u001b[0m: name 'halfAge' is not defined"
          ]
        }
      ]
    },
    {
      "cell_type": "code",
      "source": [
        "#Practice here with Type casting"
      ],
      "metadata": {
        "id": "ThTo82FN9tvI"
      },
      "execution_count": 6,
      "outputs": []
    },
    {
      "cell_type": "code",
      "source": [
        "import math\n",
        "print(math.trunc(254.9987))\n",
        "\n",
        "print(math.sqrt(16))"
      ],
      "metadata": {
        "colab": {
          "base_uri": "https://localhost:8080/"
        },
        "id": "wWhBf0zQ-AJp",
        "outputId": "f634da7b-153a-4da9-9bc4-01d08ee49c38"
      },
      "execution_count": 7,
      "outputs": [
        {
          "output_type": "stream",
          "name": "stdout",
          "text": [
            "254\n",
            "4.0\n"
          ]
        }
      ]
    },
    {
      "cell_type": "code",
      "source": [
        "# practice here using the math.pi function"
      ],
      "metadata": {
        "id": "gciiMRM696jF"
      },
      "execution_count": 8,
      "outputs": []
    },
    {
      "cell_type": "code",
      "source": [
        "from IPython.display import YouTubeVideo\n",
        "YouTubeVideo('5tdlhyZTXHQ', width=800, height=300)"
      ],
      "metadata": {
        "id": "j38W2ZFAdbaD",
        "colab": {
          "base_uri": "https://localhost:8080/",
          "height": 321
        },
        "outputId": "6f7f7e5b-6fdc-4ec5-8bcd-30671d70faf3"
      },
      "execution_count": 9,
      "outputs": [
        {
          "output_type": "execute_result",
          "data": {
            "text/plain": [
              "<IPython.lib.display.YouTubeVideo at 0x79a57d9f0df0>"
            ],
            "text/html": [
              "\n",
              "        <iframe\n",
              "            width=\"800\"\n",
              "            height=\"300\"\n",
              "            src=\"https://www.youtube.com/embed/5tdlhyZTXHQ\"\n",
              "            frameborder=\"0\"\n",
              "            allowfullscreen\n",
              "            \n",
              "        ></iframe>\n",
              "        "
            ],
            "image/jpeg": "[encoded data removed]"
          },
          "metadata": {},
          "execution_count": 9
        }
      ]
    },
    {
      "cell_type": "code",
      "source": [
        "from IPython.display import YouTubeVideo\n",
        "YouTubeVideo('MnCK3DK-eXo', width=800, height=300)"
      ],
      "metadata": {
        "id": "R6kx9uExdj-t",
        "colab": {
          "base_uri": "https://localhost:8080/",
          "height": 321
        },
        "outputId": "d1ac25a2-f0d0-4583-eeb1-a8da53434fec"
      },
      "execution_count": 10,
      "outputs": [
        {
          "output_type": "execute_result",
          "data": {
            "text/plain": [
              "<IPython.lib.display.YouTubeVideo at 0x79a57d9f2410>"
            ],
            "text/html": [
              "\n",
              "        <iframe\n",
              "            width=\"800\"\n",
              "            height=\"300\"\n",
              "            src=\"https://www.youtube.com/embed/MnCK3DK-eXo\"\n",
              "            frameborder=\"0\"\n",
              "            allowfullscreen\n",
              "            \n",
              "        ></iframe>\n",
              "        "
            ],
            "image/jpeg": "[encoded data removed]"
          },
          "metadata": {},
          "execution_count": 10
        }
      ]
    }
  ]
}
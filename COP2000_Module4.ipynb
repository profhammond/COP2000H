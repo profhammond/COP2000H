{
  "nbformat": 4,
  "nbformat_minor": 0,
  "metadata": {
    "colab": {
      "provenance": [],
      "authorship_tag": "ABX9TyN0gFlzsNoEZzPCXEJ+WfhD",
      "include_colab_link": true
    },
    "kernelspec": {
      "name": "python3",
      "display_name": "Python 3"
    },
    "language_info": {
      "name": "python"
    }
  },
  "cells": [
    {
      "cell_type": "markdown",
      "metadata": {
        "id": "view-in-github",
        "colab_type": "text"
      },
      "source": [
        "<a href=\"https://colab.research.google.com/github/profhammond/COP2000H/blob/main/COP2000_Module4.ipynb\" target=\"_parent\"><img src=\"https://colab.research.google.com/assets/colab-badge.svg\" alt=\"Open In Colab\"/></a>"
      ]
    },
    {
      "cell_type": "markdown",
      "source": [
        "#**Practice Exercise 3**"
      ],
      "metadata": {
        "id": "munegDNKnUGL"
      }
    },
    {
      "cell_type": "code",
      "source": [
        "from IPython.display import YouTubeVideo\n",
        "YouTubeVideo('mdePLPweMF4', width=800, height=300)"
      ],
      "metadata": {
        "colab": {
          "base_uri": "https://localhost:8080/",
          "height": 321
        },
        "id": "CkOrDYcAeHNd",
        "outputId": "a254f67d-1b87-4a16-8039-b5d19be410f6"
      },
      "execution_count": 2,
      "outputs": [
        {
          "output_type": "execute_result",
          "data": {
            "text/plain": [
              "<IPython.lib.display.YouTubeVideo at 0x7e9f8d84cd90>"
            ],
            "text/html": [
              "\n",
              "        <iframe\n",
              "            width=\"800\"\n",
              "            height=\"300\"\n",
              "            src=\"https://www.youtube.com/embed/mdePLPweMF4\"\n",
              "            frameborder=\"0\"\n",
              "            allowfullscreen\n",
              "            \n",
              "        ></iframe>\n",
              "        "
            ],
            "image/jpeg": "[encoded data removed]"
          },
          "metadata": {},
          "execution_count": 2
        }
      ]
    },
    {
      "cell_type": "markdown",
      "source": [
        "# **Conditionals**"
      ],
      "metadata": {
        "id": "aTamyh-ufMT1"
      }
    },
    {
      "cell_type": "code",
      "source": [
        "from IPython.display import YouTubeVideo\n",
        "YouTubeVideo('038Fo0R3spo', width=800, height=300)"
      ],
      "metadata": {
        "id": "kJFdwzoUePxg",
        "colab": {
          "base_uri": "https://localhost:8080/",
          "height": 321
        },
        "outputId": "df81b43b-2f2b-4a1d-8a37-95e31c6bba34"
      },
      "execution_count": 3,
      "outputs": [
        {
          "output_type": "execute_result",
          "data": {
            "text/plain": [
              "<IPython.lib.display.YouTubeVideo at 0x7e9f8d84d6c0>"
            ],
            "text/html": [
              "\n",
              "        <iframe\n",
              "            width=\"800\"\n",
              "            height=\"300\"\n",
              "            src=\"https://www.youtube.com/embed/038Fo0R3spo\"\n",
              "            frameborder=\"0\"\n",
              "            allowfullscreen\n",
              "            \n",
              "        ></iframe>\n",
              "        "
            ],
            "image/jpeg": "[encoded data removed]"
          },
          "metadata": {},
          "execution_count": 3
        }
      ]
    },
    {
      "cell_type": "markdown",
      "source": [
        "## **Comments**"
      ],
      "metadata": {
        "id": "9SH_W4n7e4mg"
      }
    },
    {
      "cell_type": "code",
      "execution_count": 4,
      "metadata": {
        "colab": {
          "base_uri": "https://localhost:8080/"
        },
        "id": "AoE8vCHoNp32",
        "outputId": "e5264fae-1ed8-486e-a4e1-103c265eaf2e"
      },
      "outputs": [
        {
          "output_type": "execute_result",
          "data": {
            "text/plain": [
              "Type help() for interactive help, or help(object) for help about object."
            ]
          },
          "metadata": {},
          "execution_count": 4
        }
      ],
      "source": [
        "# This is a comment \\\n",
        "help"
      ]
    },
    {
      "cell_type": "code",
      "source": [
        "# 60 sec/min * 60 min/hr * 24 hr/day\n",
        "seconds_per_day = 86400\n",
        "\n",
        "seconds_per_day = 86400 # 60 sec/min * 60 min/hr * 24 hr/day"
      ],
      "metadata": {
        "id": "LUjAQWGpfckR"
      },
      "execution_count": 5,
      "outputs": []
    },
    {
      "cell_type": "markdown",
      "source": [
        "### **your turn**"
      ],
      "metadata": {
        "id": "0x4ps4fAfnjX"
      }
    },
    {
      "cell_type": "code",
      "source": [
        "# Try writing code and comments and see what can go wrong\n"
      ],
      "metadata": {
        "id": "AHtjPCxbe3h6"
      },
      "execution_count": 6,
      "outputs": []
    },
    {
      "cell_type": "markdown",
      "source": [
        "## **Continue Lines with \\**"
      ],
      "metadata": {
        "id": "pAe8pKwnfJyq"
      }
    },
    {
      "cell_type": "markdown",
      "source": [
        "**one line at a time**"
      ],
      "metadata": {
        "id": "qkrGhIDse-8r"
      }
    },
    {
      "cell_type": "code",
      "source": [
        "sum = 0\n",
        "sum += 1\n",
        "sum += 2\n",
        "sum += 3\n",
        "sum += 4\n",
        "sum\n",
        "print(sum)\n"
      ],
      "metadata": {
        "colab": {
          "base_uri": "https://localhost:8080/"
        },
        "id": "f_4gty1kf0tt",
        "outputId": "330269f5-faa0-484d-bc98-daf7d68d1d90"
      },
      "execution_count": 7,
      "outputs": [
        {
          "output_type": "stream",
          "name": "stdout",
          "text": [
            "10\n"
          ]
        }
      ]
    },
    {
      "cell_type": "markdown",
      "source": [
        "**using the continuation character**"
      ],
      "metadata": {
        "id": "i7J0GIPNgcII"
      }
    },
    {
      "cell_type": "code",
      "source": [
        "sum = 1 + \\\n",
        "      2 + \\\n",
        "      3 + \\\n",
        "      4\n",
        "print(sum)"
      ],
      "metadata": {
        "colab": {
          "base_uri": "https://localhost:8080/"
        },
        "id": "-PS0tbXkf_bb",
        "outputId": "8fe01508-c2c1-43ad-8f5f-c9253ef0c1fd"
      },
      "execution_count": 8,
      "outputs": [
        {
          "output_type": "stream",
          "name": "stdout",
          "text": [
            "10\n"
          ]
        }
      ]
    },
    {
      "cell_type": "markdown",
      "source": [
        "**parentheses (or square or curly brackets)**"
      ],
      "metadata": {
        "id": "QklSJm4LgUTl"
      }
    },
    {
      "cell_type": "code",
      "source": [
        "sum = (\n",
        "    1 +\n",
        "    2 +\n",
        "    3 +\n",
        "    4)\n",
        "\n",
        "print(sum)\n"
      ],
      "metadata": {
        "colab": {
          "base_uri": "https://localhost:8080/"
        },
        "id": "bd8lnkXKgMQN",
        "outputId": "d205addd-4233-4967-b68a-a6cfa495e474"
      },
      "execution_count": 9,
      "outputs": [
        {
          "output_type": "stream",
          "name": "stdout",
          "text": [
            "10\n"
          ]
        }
      ]
    },
    {
      "cell_type": "markdown",
      "source": [
        "**Your Turn**"
      ],
      "metadata": {
        "id": "_g7wcX40g7sF"
      }
    },
    {
      "cell_type": "code",
      "source": [
        "# Play with the continuation character and see what can go\n"
      ],
      "metadata": {
        "id": "F6LWMXmTg_hM"
      },
      "execution_count": 10,
      "outputs": []
    },
    {
      "cell_type": "markdown",
      "source": [
        "## **Compare with if, elif, and else**"
      ],
      "metadata": {
        "id": "q2fPGtacfvhG"
      }
    },
    {
      "cell_type": "code",
      "source": [
        "from IPython.display import YouTubeVideo\n",
        "YouTubeVideo('U8c_BjPxfmw', width=800, height=300)"
      ],
      "metadata": {
        "id": "vCv3SO57eYbm",
        "colab": {
          "base_uri": "https://localhost:8080/",
          "height": 321
        },
        "outputId": "cc2b6cfa-ea22-467c-ac5a-9af4fd0ab5c9"
      },
      "execution_count": 11,
      "outputs": [
        {
          "output_type": "execute_result",
          "data": {
            "text/plain": [
              "<IPython.lib.display.YouTubeVideo at 0x7e9f8d84da80>"
            ],
            "text/html": [
              "\n",
              "        <iframe\n",
              "            width=\"800\"\n",
              "            height=\"300\"\n",
              "            src=\"https://www.youtube.com/embed/U8c_BjPxfmw\"\n",
              "            frameborder=\"0\"\n",
              "            allowfullscreen\n",
              "            \n",
              "        ></iframe>\n",
              "        "
            ],
            "image/jpeg": "[encoded data removed]"
          },
          "metadata": {},
          "execution_count": 11
        }
      ]
    },
    {
      "cell_type": "markdown",
      "source": [
        "### **code structures**"
      ],
      "metadata": {
        "id": "-zReD6_EhQhS"
      }
    },
    {
      "cell_type": "markdown",
      "source": [
        "#### **implicitly done**"
      ],
      "metadata": {
        "id": "Ipl97i43hZAC"
      }
    },
    {
      "cell_type": "code",
      "source": [
        "disaster = True\n",
        "if disaster:\n",
        "   print(\"Woe!\")\n",
        "else:\n",
        "   print(\"Whee!\")"
      ],
      "metadata": {
        "colab": {
          "base_uri": "https://localhost:8080/"
        },
        "id": "_urApHFShPlU",
        "outputId": "9b1a2ef0-6537-4ffc-a34a-b83622890e29"
      },
      "execution_count": 12,
      "outputs": [
        {
          "output_type": "stream",
          "name": "stdout",
          "text": [
            "Woe!\n"
          ]
        }
      ]
    },
    {
      "cell_type": "markdown",
      "source": [
        "#### **explicitly done**"
      ],
      "metadata": {
        "id": "Sh7HadOnhlAU"
      }
    },
    {
      "cell_type": "code",
      "source": [
        "disaster = True\n",
        "if (disaster == True):\n",
        "   print(\"Woe!\")\n",
        "else:\n",
        "   print(\"Whee!\")"
      ],
      "metadata": {
        "colab": {
          "base_uri": "https://localhost:8080/"
        },
        "id": "WtFgA3ALhobG",
        "outputId": "fd315cf5-16af-4372-98a9-4a33dbd93df0"
      },
      "execution_count": 13,
      "outputs": [
        {
          "output_type": "stream",
          "name": "stdout",
          "text": [
            "Woe!\n"
          ]
        }
      ]
    },
    {
      "cell_type": "markdown",
      "source": [
        "#### **Nested**"
      ],
      "metadata": {
        "id": "VGg-Epw2h16v"
      }
    },
    {
      "cell_type": "code",
      "source": [
        "furry = True\n",
        "large = True\n",
        "if furry:\n",
        "   if large:\n",
        "       print(\"It's a yeti.\")\n",
        "   else:\n",
        "       print(\"It's a cat!\")\n",
        "else:\n",
        "   if large:\n",
        "       print(\"It's a whale!\")\n",
        "   else:\n",
        "       print(\"It's a human. Or a hairless cat.\")"
      ],
      "metadata": {
        "colab": {
          "base_uri": "https://localhost:8080/"
        },
        "id": "S5lBB_7mh4S-",
        "outputId": "19d25ad1-6aad-42cd-9429-45579b64c966"
      },
      "execution_count": 14,
      "outputs": [
        {
          "output_type": "stream",
          "name": "stdout",
          "text": [
            "It's a yeti.\n"
          ]
        }
      ]
    },
    {
      "cell_type": "markdown",
      "source": [
        "### **Your Turn**"
      ],
      "metadata": {
        "id": "2Eq4rK8jiIkj"
      }
    },
    {
      "cell_type": "code",
      "source": [
        "# Play with this code and see how important indentation is\n",
        "# see what happens when you play with capitalization of reservered words, can you use Print()\n",
        "furry = True\n",
        "large = True\n",
        "if furry:\n",
        "   if large:\n",
        "       print(\"It's a yeti.\")\n",
        "   else:\n",
        "       print(\"It's a cat!\")\n",
        "else:\n",
        "   if large:\n",
        "       print(\"It's a whale!\")\n",
        "   else:\n",
        "       print(\"It's a human. Or a hairless cat.\")"
      ],
      "metadata": {
        "id": "1huyGLfbiK76",
        "colab": {
          "base_uri": "https://localhost:8080/"
        },
        "outputId": "e0b7f640-878e-4de9-dddf-512651af4e3e"
      },
      "execution_count": 15,
      "outputs": [
        {
          "output_type": "stream",
          "name": "stdout",
          "text": [
            "It's a yeti.\n"
          ]
        }
      ]
    },
    {
      "cell_type": "markdown",
      "source": [
        "##**Logical Operators**"
      ],
      "metadata": {
        "id": "kunZcHxSikwo"
      }
    },
    {
      "cell_type": "code",
      "source": [
        "# use the logical (or boolean) operators and, or, and not in the code below\n",
        "\n",
        "num1 = 10\n",
        "num2 = 5\n",
        "num3 = 12\n",
        "\n",
        "if(num1 == 10) ***enter logical operator here** (num2 == 10):\n",
        "     print(\"num1 is 10 and, or, not num2 is less than 10\")\n"
      ],
      "metadata": {
        "id": "o_kb_qkgif9-",
        "colab": {
          "base_uri": "https://localhost:8080/",
          "height": 106
        },
        "outputId": "72bed61f-5554-4772-9063-bb824ea153ee"
      },
      "execution_count": 16,
      "outputs": [
        {
          "output_type": "error",
          "ename": "SyntaxError",
          "evalue": "invalid syntax (<ipython-input-16-02b68e8d8ce9>, line 7)",
          "traceback": [
            "\u001b[0;36m  File \u001b[0;32m\"<ipython-input-16-02b68e8d8ce9>\"\u001b[0;36m, line \u001b[0;32m7\u001b[0m\n\u001b[0;31m    if(num1 == 10) ***enter logical operator here** (num2 == 10):\u001b[0m\n\u001b[0m                     ^\u001b[0m\n\u001b[0;31mSyntaxError\u001b[0m\u001b[0;31m:\u001b[0m invalid syntax\n"
          ]
        }
      ]
    },
    {
      "cell_type": "code",
      "source": [
        "from IPython.display import YouTubeVideo\n",
        "YouTubeVideo('iHokf-2Livs', width=800, height=300)"
      ],
      "metadata": {
        "id": "Bmr9VHyWk6E3",
        "colab": {
          "base_uri": "https://localhost:8080/",
          "height": 321
        },
        "outputId": "a65db86c-a612-4a09-b4b8-2e679721463c"
      },
      "execution_count": 17,
      "outputs": [
        {
          "output_type": "execute_result",
          "data": {
            "text/plain": [
              "<IPython.lib.display.YouTubeVideo at 0x7e9f8d84d5d0>"
            ],
            "text/html": [
              "\n",
              "        <iframe\n",
              "            width=\"800\"\n",
              "            height=\"300\"\n",
              "            src=\"https://www.youtube.com/embed/iHokf-2Livs\"\n",
              "            frameborder=\"0\"\n",
              "            allowfullscreen\n",
              "            \n",
              "        ></iframe>\n",
              "        "
            ],
            "image/jpeg": "[encoded data removed]"
          },
          "metadata": {},
          "execution_count": 17
        }
      ]
    },
    {
      "cell_type": "markdown",
      "source": [
        "## **True and False**"
      ],
      "metadata": {
        "id": "mrzk6tBdkjFD"
      }
    },
    {
      "cell_type": "code",
      "source": [
        "some_list = []\n",
        "if some_list:\n",
        "   print(\"There's something in here\")\n",
        "else:\n",
        "    print(\"Hey, it's empty!\")"
      ],
      "metadata": {
        "colab": {
          "base_uri": "https://localhost:8080/"
        },
        "id": "yrXxrwvCktcg",
        "outputId": "46b72317-02e5-4636-c53c-726141f1d0b5"
      },
      "execution_count": 18,
      "outputs": [
        {
          "output_type": "stream",
          "name": "stdout",
          "text": [
            "Hey, it's empty!\n"
          ]
        }
      ]
    },
    {
      "cell_type": "code",
      "source": [
        "#Use each of these in a conditional coding statement\n",
        "\n",
        "# boolean       False\n",
        "\n",
        "# null          None\n",
        "\n",
        "# zero integer    0\n",
        "\n",
        "# zero float      0.0\n",
        "\n",
        "# empty string    ''\n",
        "\n",
        "# empty list      []\n",
        "\n",
        "# empty tuple     ()\n",
        "\n",
        "# empty dict      {}\n",
        "\n"
      ],
      "metadata": {
        "id": "JLCMAZ-Pj8qU"
      },
      "execution_count": 19,
      "outputs": []
    },
    {
      "cell_type": "markdown",
      "source": [
        "## **Do Multiple Comparisons with in**"
      ],
      "metadata": {
        "id": "6ON-SmgFlGEO"
      }
    },
    {
      "cell_type": "code",
      "source": [
        "letter = 'o'\n",
        "if letter == 'a' or letter == 'e' or letter == 'i' \\\n",
        "    or letter == 'o' or letter == 'u':\n",
        "    print(letter, 'is a vowel')\n",
        "else:\n",
        "   print(letter, 'is not a vowel')"
      ],
      "metadata": {
        "colab": {
          "base_uri": "https://localhost:8080/"
        },
        "id": "MdHAkcRpk6xa",
        "outputId": "9a3bd7f9-bce1-4db6-88a2-bc3389e9a389"
      },
      "execution_count": 20,
      "outputs": [
        {
          "output_type": "stream",
          "name": "stdout",
          "text": [
            "o is a vowel\n"
          ]
        }
      ]
    },
    {
      "cell_type": "code",
      "source": [
        "from IPython.display import YouTubeVideo\n",
        "YouTubeVideo('gbweMQmxpFo', width=800, height=300)"
      ],
      "metadata": {
        "colab": {
          "base_uri": "https://localhost:8080/",
          "height": 321
        },
        "id": "D9rLU6TLexcB",
        "outputId": "440e1fcd-c17f-4d4f-8bfd-0fa16148f240"
      },
      "execution_count": 21,
      "outputs": [
        {
          "output_type": "execute_result",
          "data": {
            "text/plain": [
              "<IPython.lib.display.YouTubeVideo at 0x7e9f8d84df90>"
            ],
            "text/html": [
              "\n",
              "        <iframe\n",
              "            width=\"800\"\n",
              "            height=\"300\"\n",
              "            src=\"https://www.youtube.com/embed/gbweMQmxpFo\"\n",
              "            frameborder=\"0\"\n",
              "            allowfullscreen\n",
              "            \n",
              "        ></iframe>\n",
              "        "
            ],
            "image/jpeg": "[encoded data removed]"
          },
          "metadata": {},
          "execution_count": 21
        }
      ]
    },
    {
      "cell_type": "markdown",
      "source": [
        "## **New: I Am the Walrus**"
      ],
      "metadata": {
        "id": "sPg_vYX2l0dt"
      }
    },
    {
      "cell_type": "markdown",
      "source": [
        "### **old school**"
      ],
      "metadata": {
        "id": "y86-6I5xmEPJ"
      }
    },
    {
      "cell_type": "code",
      "source": [
        "tweet_limit = 280\n",
        "tweet_string = \"Blah\" * 50\n",
        "diff = tweet_limit - len(tweet_string)\n",
        "if diff >= 0:\n",
        "    print(\"A fitting tweet\")\n",
        "else:\n",
        "    print(\"Went over by\", abs(diff))"
      ],
      "metadata": {
        "id": "EzJ8f_tHl5hZ",
        "colab": {
          "base_uri": "https://localhost:8080/"
        },
        "outputId": "c401c92e-723a-453c-8be6-78e1a191c639"
      },
      "execution_count": 22,
      "outputs": [
        {
          "output_type": "stream",
          "name": "stdout",
          "text": [
            "A fitting tweet\n"
          ]
        }
      ]
    },
    {
      "cell_type": "markdown",
      "source": [
        "### **Walrus :=**"
      ],
      "metadata": {
        "id": "PgRozeVKmJ8C"
      }
    },
    {
      "cell_type": "code",
      "source": [
        "tweet_limit = 280\n",
        "tweet_string = \"Blah\" * 50\n",
        "if diff := tweet_limit - len(tweet_string) >= 0:\n",
        "    print(\"A fitting tweet\")\n",
        "else:\n",
        "    print(\"Went over by\", abs(diff))"
      ],
      "metadata": {
        "id": "8IBsRy_9l7ex",
        "colab": {
          "base_uri": "https://localhost:8080/"
        },
        "outputId": "d6e1358d-d993-4538-f18e-ca50521f161d"
      },
      "execution_count": 23,
      "outputs": [
        {
          "output_type": "stream",
          "name": "stdout",
          "text": [
            "A fitting tweet\n"
          ]
        }
      ]
    },
    {
      "cell_type": "markdown",
      "source": [
        "## **Your Turn**"
      ],
      "metadata": {
        "id": "rHqL-231mRwo"
      }
    },
    {
      "cell_type": "code",
      "source": [
        "# write code to use the Walrus in a way that you create.. (hint code samples many sections above)\n"
      ],
      "metadata": {
        "id": "3zIrW93DmVz9"
      },
      "execution_count": null,
      "outputs": []
    }
  ]
}